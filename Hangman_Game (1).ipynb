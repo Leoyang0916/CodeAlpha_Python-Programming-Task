{
 "cells": [
  {
   "cell_type": "code",
   "execution_count": 1,
   "id": "b951e0d8-a8e6-4ff6-8d89-b7ebedf6b339",
   "metadata": {},
   "outputs": [
    {
     "name": "stdout",
     "output_type": "stream",
     "text": [
      "Welcome to Hangman!\n",
      "You have 6 lives.\n",
      "\n",
      "Current : _ _ _ _ _ _\n",
      "Tried   : (none)\n",
      "Lives   : 6\n"
     ]
    },
    {
     "name": "stdin",
     "output_type": "stream",
     "text": [
      "Guess a letter:  a\n"
     ]
    },
    {
     "name": "stdout",
     "output_type": "stream",
     "text": [
      "✅ Correct!\n",
      "\n",
      "Current : _ a _ a _ _\n",
      "Tried   : a\n",
      "Lives   : 6\n"
     ]
    },
    {
     "name": "stdin",
     "output_type": "stream",
     "text": [
      "Guess a letter:  g\n"
     ]
    },
    {
     "name": "stdout",
     "output_type": "stream",
     "text": [
      "✅ Correct!\n",
      "\n",
      "Current : g a _ a _ _\n",
      "Tried   : a g\n",
      "Lives   : 6\n"
     ]
    },
    {
     "name": "stdin",
     "output_type": "stream",
     "text": [
      "Guess a letter:  l\n"
     ]
    },
    {
     "name": "stdout",
     "output_type": "stream",
     "text": [
      "✅ Correct!\n",
      "\n",
      "Current : g a l a _ _\n",
      "Tried   : a g l\n",
      "Lives   : 6\n"
     ]
    },
    {
     "name": "stdin",
     "output_type": "stream",
     "text": [
      "Guess a letter:  x\n"
     ]
    },
    {
     "name": "stdout",
     "output_type": "stream",
     "text": [
      "✅ Correct!\n",
      "\n",
      "Current : g a l a x _\n",
      "Tried   : a g l x\n",
      "Lives   : 6\n"
     ]
    },
    {
     "name": "stdin",
     "output_type": "stream",
     "text": [
      "Guess a letter:  y\n"
     ]
    },
    {
     "name": "stdout",
     "output_type": "stream",
     "text": [
      "✅ Correct!\n",
      "\n",
      "Answer  : galaxy\n",
      "🎉 Congratulations, you won!\n"
     ]
    }
   ],
   "source": [
    "# Task1 Hangman Game\n",
    "\n",
    "import random\n",
    "\n",
    "# 1) Word List\n",
    "WORDS = [\"python\", \"panda\", \"matrix\", \"galaxy\", \"coffee\"]\n",
    "\n",
    "# 2) Helper Functions \n",
    "def masked_word(word: str, guessed: set[str]) :\n",
    "    #Show underscores for unguessed letters and reveal guessed ones\n",
    "    chars = [ch if ch in guessed else \"_\" for ch in word]\n",
    "    return \" \".join(chars)\n",
    "\n",
    "def ask_letter() :\n",
    "    #Ask player for a single letter input and validate it\n",
    "    while True:\n",
    "        s = input(\"Guess a letter: \").strip().lower()\n",
    "        if len(s) == 1 and s.isalpha():\n",
    "            return s\n",
    "        print(\"Please enter a single English letter (a-z).\")\n",
    "\n",
    "# 3) Main Game\n",
    "def main():\n",
    "    secret = random.choice(WORDS)     # Randomly choose a secret word\n",
    "    guessed: set[str] = set()         # Letters that have been guessed\n",
    "    wrong = 0\n",
    "    MAX_WRONG = 6\n",
    "\n",
    "    print(\"Welcome to Hangman!\")\n",
    "    print(f\"You have {MAX_WRONG} lives.\")\n",
    "\n",
    "    # Game loop: continue while there are lives left and word not completed\n",
    "    while wrong < MAX_WRONG and \"_\" in masked_word(secret, guessed):\n",
    "        print(\"\\nCurrent :\", masked_word(secret, guessed))\n",
    "        print(\"Tried   :\", \" \".join(sorted(guessed)) if guessed else \"(none)\")\n",
    "        print(\"Lives   :\", MAX_WRONG - wrong)\n",
    "\n",
    "        letter = ask_letter()\n",
    "\n",
    "        if letter in guessed:\n",
    "            print(\"You already guessed that letter!\")\n",
    "            continue\n",
    "\n",
    "        guessed.add(letter)\n",
    "\n",
    "        if letter in secret:\n",
    "            print(\"✅ Correct!\")\n",
    "        else:\n",
    "            wrong += 1\n",
    "            print(f\"❌ Wrong! You have {MAX_WRONG - wrong} lives left.\")\n",
    "\n",
    "    # 4) Game Result\n",
    "    print(\"\\nAnswer  :\", secret)\n",
    "    if \"_\" not in masked_word(secret, guessed):\n",
    "        print(\"🎉 Congratulations, you won!\")\n",
    "    else:\n",
    "        print(\"💀 Game Over!\")\n",
    "\n",
    "if __name__ == \"__main__\":\n",
    "    main()\n"
   ]
  },
  {
   "cell_type": "code",
   "execution_count": null,
   "id": "fa69d3b8-5cbd-4163-8171-9bac4d69f68c",
   "metadata": {},
   "outputs": [],
   "source": []
  }
 ],
 "metadata": {
  "kernelspec": {
   "display_name": "Python 3 (ipykernel)",
   "language": "python",
   "name": "python3"
  },
  "language_info": {
   "codemirror_mode": {
    "name": "ipython",
    "version": 3
   },
   "file_extension": ".py",
   "mimetype": "text/x-python",
   "name": "python",
   "nbconvert_exporter": "python",
   "pygments_lexer": "ipython3",
   "version": "3.12.4"
  }
 },
 "nbformat": 4,
 "nbformat_minor": 5
}
