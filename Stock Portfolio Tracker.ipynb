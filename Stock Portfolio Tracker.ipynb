{
 "cells": [
  {
   "cell_type": "code",
   "execution_count": 3,
   "id": "28d7d5b4-7946-4955-b09c-dfc34e04da6e",
   "metadata": {},
   "outputs": [
    {
     "name": "stdout",
     "output_type": "stream",
     "text": [
      "Welcome to the Stock Portfolio Tracker!\n",
      "Available stocks and prices (USD):\n",
      "  AAPL: $258\n",
      "  TSLA: $438\n",
      "  MSFT: $520\n",
      "  NVDA: $180\n",
      "  AMZN: $217\n"
     ]
    },
    {
     "name": "stdin",
     "output_type": "stream",
     "text": [
      "\n",
      "Enter stock symbol and quantity (e.g., AAPL 5), or press Enter to finish:  AAPL 10\n",
      "\n",
      "Enter stock symbol and quantity (e.g., AAPL 5), or press Enter to finish:  \n"
     ]
    },
    {
     "name": "stdout",
     "output_type": "stream",
     "text": [
      "\n",
      "Your Portfolio Summary:\n",
      "-----------------------------------\n",
      "AAPL  x   10 @ $258.00 = $ 2580.00\n",
      "-----------------------------------\n",
      "Total Investment Value: $2580.00\n"
     ]
    },
    {
     "name": "stdin",
     "output_type": "stream",
     "text": [
      "\n",
      "Do you want to save the result to result.txt? (y/n):  Y\n"
     ]
    },
    {
     "name": "stdout",
     "output_type": "stream",
     "text": [
      "✅ Saved as result.txt\n"
     ]
    }
   ],
   "source": [
    "# TASK 2: Stock Portfolio Tracker\n",
    "# Step 1. Predefined stock prices(All price of stocks are refered Oct 22th,2025)\n",
    "PRICES = {\n",
    "    \"AAPL\": 258,\n",
    "    \"TSLA\": 438,\n",
    "    \"MSFT\": 520,\n",
    "    \"NVDA\": 180,\n",
    "    \"AMZN\": 217\n",
    "}\n",
    "\n",
    "print(\"Welcome to the Stock Portfolio Tracker!\")\n",
    "print(\"Available stocks and prices (USD):\")\n",
    "for symbol, price in PRICES.items():\n",
    "    print(f\"  {symbol}: ${price}\")\n",
    "\n",
    "# Step 2. Collect user inputs\n",
    "portfolio = []  # Create a list\n",
    "\n",
    "while True:\n",
    "    entry = input(\"\\nEnter stock symbol and quantity (e.g., AAPL 5), or press Enter to finish: \").strip()\n",
    "    if entry == \"\":\n",
    "        break\n",
    "\n",
    "    parts = entry.split()\n",
    "    if len(parts) != 2:\n",
    "        print(\"⚠️ Please use the format: SYMBOL QUANTITY (e.g., TSLA 3)\")\n",
    "        continue\n",
    "\n",
    "    symbol, qty_str = parts[0].upper(), parts[1]\n",
    "\n",
    "    if symbol not in PRICES:\n",
    "        print(\"Unknown symbol! Choose from:\", \", \".join(PRICES.keys()))\n",
    "        continue\n",
    "\n",
    "    if not qty_str.isdigit():\n",
    "        print(\"Quantity must be a positive number.\")\n",
    "        continue\n",
    "\n",
    "    quantity = int(qty_str)\n",
    "    portfolio.append((symbol, quantity))\n",
    "\n",
    "# Step 3. Calculate total investment\n",
    "total_value = 0\n",
    "print(\"\\nYour Portfolio Summary:\")\n",
    "print(\"-\" * 35)\n",
    "\n",
    "for symbol, qty in portfolio:\n",
    "    value = PRICES[symbol] * qty\n",
    "    total_value += value\n",
    "    print(f\"{symbol:5s} x {qty:4d} @ ${PRICES[symbol]:>6.2f} = ${value:>8.2f}\")\n",
    "\n",
    "print(\"-\" * 35)\n",
    "print(f\"Total Investment Value: ${total_value:.2f}\")\n",
    "\n",
    "# Step 4. Optional: Save results to a file\n",
    "save = input(\"\\nDo you want to save the result to result.txt? (y/n): \").strip().lower()\n",
    "if save == \"y\":\n",
    "    with open(\"result.txt\", \"w\", encoding=\"utf-8\") as f:\n",
    "        f.write(\"Symbol,Quantity,Price,Value\\n\")\n",
    "        for symbol, qty in portfolio:\n",
    "            val = PRICES[symbol] * qty\n",
    "            f.write(f\"{symbol},{qty},{PRICES[symbol]},{val}\\n\")\n",
    "        f.write(f\"TOTAL,,,{total_value}\\n\")\n",
    "    print(\"✅ Saved as result.txt\")\n"
   ]
  },
  {
   "cell_type": "code",
   "execution_count": null,
   "id": "bb52f9f7-6d29-4fd0-929a-bd3bfb981ee7",
   "metadata": {},
   "outputs": [],
   "source": []
  }
 ],
 "metadata": {
  "kernelspec": {
   "display_name": "Python 3 (ipykernel)",
   "language": "python",
   "name": "python3"
  },
  "language_info": {
   "codemirror_mode": {
    "name": "ipython",
    "version": 3
   },
   "file_extension": ".py",
   "mimetype": "text/x-python",
   "name": "python",
   "nbconvert_exporter": "python",
   "pygments_lexer": "ipython3",
   "version": "3.12.4"
  }
 },
 "nbformat": 4,
 "nbformat_minor": 5
}
